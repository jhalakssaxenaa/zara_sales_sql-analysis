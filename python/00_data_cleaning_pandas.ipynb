{
 "cells": [
  {
   "cell_type": "markdown",
   "id": "53516671",
   "metadata": {},
   "source": [
    "## ZARA SALES DATA ANALYSIS \n"
   ]
  },
  {
   "cell_type": "markdown",
   "id": "a2862c10",
   "metadata": {},
   "source": [
    "# =============================================\n",
    "# File          : 00_data_cleaning_pandas.py\n",
    "# Project       : Zara Sales Analysis\n",
    "# Author        : Jhalak Saxena\n",
    "# Description   : Pre-SQL data cleaning using pandas (deduplication + outlier removal)\n",
    "# Input         : zara_sales.csv\n",
    "# Last Updated  : 2025-07-09\n",
    "# =============================================\n"
   ]
  },
  {
   "cell_type": "code",
   "execution_count": 3,
   "id": "be5079d6",
   "metadata": {},
   "outputs": [],
   "source": [
    "#IMPORTING DEPENDENCIES\n",
    "import pandas as pd\n",
    "import seaborn as sns\n",
    "import matplotlib.pyplot as plt"
   ]
  },
  {
   "cell_type": "code",
   "execution_count": 10,
   "id": "fce6909e",
   "metadata": {},
   "outputs": [],
   "source": [
    "#Reading and loading the FILE \n",
    "\n",
    "df = pd.read_csv(r\"C:\\Users\\DELL\\Desktop\\zara-clean\\data\\zara_raw_dataset.csv\")"
   ]
  },
  {
   "cell_type": "code",
   "execution_count": 11,
   "id": "62b2c698",
   "metadata": {},
   "outputs": [
    {
     "name": "stdout",
     "output_type": "stream",
     "text": [
      "(252, 1)\n",
      "Index(['Product ID;Product Position;Promotion;Product Category;Seasonal;Sales Volume;brand;url;sku;name;description;price;currency;scraped_at;terms;section'], dtype='object')\n"
     ]
    }
   ],
   "source": [
    "# Understanding the data\n",
    "print(df.shape)\n",
    "print(df.columns)\n",
    "  "
   ]
  },
  {
   "cell_type": "markdown",
   "id": "26b46c8c",
   "metadata": {},
   "source": [
    "Since it is not seperated into  columns , we have to remove the delimiter and convert it to columns and rows\n"
   ]
  },
  {
   "cell_type": "code",
   "execution_count": 18,
   "id": "46d8fd36",
   "metadata": {},
   "outputs": [
    {
     "name": "stdout",
     "output_type": "stream",
     "text": [
      "<class 'pandas.core.frame.DataFrame'>\n",
      "RangeIndex: 252 entries, 0 to 251\n",
      "Data columns (total 16 columns):\n",
      " #   Column            Non-Null Count  Dtype  \n",
      "---  ------            --------------  -----  \n",
      " 0   Product ID        252 non-null    int64  \n",
      " 1   Product Position  252 non-null    object \n",
      " 2   Promotion         252 non-null    object \n",
      " 3   Product Category  252 non-null    object \n",
      " 4   Seasonal          252 non-null    object \n",
      " 5   Sales Volume      252 non-null    int64  \n",
      " 6   brand             252 non-null    object \n",
      " 7   url               252 non-null    object \n",
      " 8   sku               252 non-null    object \n",
      " 9   name              251 non-null    object \n",
      " 10  description       250 non-null    object \n",
      " 11  price             252 non-null    float64\n",
      " 12  currency          252 non-null    object \n",
      " 13  scraped_at        252 non-null    object \n",
      " 14  terms             252 non-null    object \n",
      " 15  section           252 non-null    object \n",
      "dtypes: float64(1), int64(2), object(13)\n",
      "memory usage: 31.6+ KB\n"
     ]
    },
    {
     "data": {
      "text/html": [
       "<div>\n",
       "<style scoped>\n",
       "    .dataframe tbody tr th:only-of-type {\n",
       "        vertical-align: middle;\n",
       "    }\n",
       "\n",
       "    .dataframe tbody tr th {\n",
       "        vertical-align: top;\n",
       "    }\n",
       "\n",
       "    .dataframe thead th {\n",
       "        text-align: right;\n",
       "    }\n",
       "</style>\n",
       "<table border=\"1\" class=\"dataframe\">\n",
       "  <thead>\n",
       "    <tr style=\"text-align: right;\">\n",
       "      <th></th>\n",
       "      <th>Product ID</th>\n",
       "      <th>Sales Volume</th>\n",
       "      <th>price</th>\n",
       "    </tr>\n",
       "  </thead>\n",
       "  <tbody>\n",
       "    <tr>\n",
       "      <th>count</th>\n",
       "      <td>252.000000</td>\n",
       "      <td>252.000000</td>\n",
       "      <td>252.000000</td>\n",
       "    </tr>\n",
       "    <tr>\n",
       "      <th>mean</th>\n",
       "      <td>153370.503968</td>\n",
       "      <td>1823.702381</td>\n",
       "      <td>86.252540</td>\n",
       "    </tr>\n",
       "    <tr>\n",
       "      <th>std</th>\n",
       "      <td>26160.444549</td>\n",
       "      <td>697.703748</td>\n",
       "      <td>52.083205</td>\n",
       "    </tr>\n",
       "    <tr>\n",
       "      <th>min</th>\n",
       "      <td>110075.000000</td>\n",
       "      <td>529.000000</td>\n",
       "      <td>7.990000</td>\n",
       "    </tr>\n",
       "    <tr>\n",
       "      <th>25%</th>\n",
       "      <td>131053.750000</td>\n",
       "      <td>1243.000000</td>\n",
       "      <td>49.900000</td>\n",
       "    </tr>\n",
       "    <tr>\n",
       "      <th>50%</th>\n",
       "      <td>151681.500000</td>\n",
       "      <td>1839.500000</td>\n",
       "      <td>79.900000</td>\n",
       "    </tr>\n",
       "    <tr>\n",
       "      <th>75%</th>\n",
       "      <td>175669.750000</td>\n",
       "      <td>2398.750000</td>\n",
       "      <td>109.000000</td>\n",
       "    </tr>\n",
       "    <tr>\n",
       "      <th>max</th>\n",
       "      <td>199631.000000</td>\n",
       "      <td>2989.000000</td>\n",
       "      <td>439.000000</td>\n",
       "    </tr>\n",
       "  </tbody>\n",
       "</table>\n",
       "</div>"
      ],
      "text/plain": [
       "          Product ID  Sales Volume       price\n",
       "count     252.000000    252.000000  252.000000\n",
       "mean   153370.503968   1823.702381   86.252540\n",
       "std     26160.444549    697.703748   52.083205\n",
       "min    110075.000000    529.000000    7.990000\n",
       "25%    131053.750000   1243.000000   49.900000\n",
       "50%    151681.500000   1839.500000   79.900000\n",
       "75%    175669.750000   2398.750000  109.000000\n",
       "max    199631.000000   2989.000000  439.000000"
      ]
     },
     "execution_count": 18,
     "metadata": {},
     "output_type": "execute_result"
    }
   ],
   "source": [
    "#Splitting header into individual column\n",
    "df = pd.read_csv(r\"C:\\Users\\DELL\\Desktop\\zara-clean\\data\\zara_raw_dataset.csv\", sep =\";\")  \n",
    "\n",
    "#checking shape again\n",
    "df.info()\n",
    "df.shape\n",
    "df.head()\n",
    "df.describe()"
   ]
  },
  {
   "cell_type": "code",
   "execution_count": 19,
   "id": "32c96328",
   "metadata": {},
   "outputs": [
    {
     "data": {
      "text/plain": [
       "Product ID          0\n",
       "Product Position    0\n",
       "Promotion           0\n",
       "Product Category    0\n",
       "Seasonal            0\n",
       "Sales Volume        0\n",
       "brand               0\n",
       "url                 0\n",
       "sku                 0\n",
       "name                1\n",
       "description         2\n",
       "price               0\n",
       "currency            0\n",
       "scraped_at          0\n",
       "terms               0\n",
       "section             0\n",
       "dtype: int64"
      ]
     },
     "execution_count": 19,
     "metadata": {},
     "output_type": "execute_result"
    }
   ],
   "source": [
    "# Checking for the null values \n",
    "df.isnull().sum()"
   ]
  },
  {
   "cell_type": "code",
   "execution_count": 20,
   "id": "effb469c",
   "metadata": {},
   "outputs": [
    {
     "data": {
      "text/plain": [
       "Product ID          0\n",
       "Product Position    0\n",
       "Promotion           0\n",
       "Product Category    0\n",
       "Seasonal            0\n",
       "Sales Volume        0\n",
       "brand               0\n",
       "url                 0\n",
       "sku                 0\n",
       "name                0\n",
       "description         0\n",
       "price               0\n",
       "currency            0\n",
       "scraped_at          0\n",
       "terms               0\n",
       "section             0\n",
       "dtype: int64"
      ]
     },
     "execution_count": 20,
     "metadata": {},
     "output_type": "execute_result"
    }
   ],
   "source": [
    "#dropping nulls \n",
    "df.dropna(inplace=True)\n",
    "\n",
    "#checking nulls again\n",
    "df.isnull().sum()"
   ]
  },
  {
   "cell_type": "code",
   "execution_count": 21,
   "id": "c93adab5",
   "metadata": {},
   "outputs": [
    {
     "data": {
      "text/plain": [
       "0"
      ]
     },
     "execution_count": 21,
     "metadata": {},
     "output_type": "execute_result"
    }
   ],
   "source": [
    "# check for duplicates \n",
    "df.duplicated().sum()\n",
    "# No duplicates found "
   ]
  },
  {
   "cell_type": "code",
   "execution_count": 22,
   "id": "d7ea5805",
   "metadata": {},
   "outputs": [],
   "source": [
    "# If df is a filtered/sliced DataFrame, make an explicit copy first\n",
    "df = df.copy()\n",
    "\n",
    "# Rename multiple columns at once (more efficient)\n",
    "df.rename(columns={\n",
    "    'terms': 'Type',\n",
    "    'section': 'Gender',\n",
    "    'name': 'product_name'\n",
    "}, inplace=True)\n",
    "\n",
    "# Capitalize the first letter of all column names\n",
    "df.columns = [col.title() for col in df.columns]\n"
   ]
  },
  {
   "cell_type": "code",
   "execution_count": 23,
   "id": "2ffdb3e6",
   "metadata": {},
   "outputs": [
    {
     "data": {
      "image/png": "[encoded data removed]",
      "text/plain": [
       "<Figure size 1200x500 with 2 Axes>"
      ]
     },
     "metadata": {},
     "output_type": "display_data"
    }
   ],
   "source": [
    "# Detecting outliners \n",
    "\n",
    "plt.figure(figsize=(12, 5))\n",
    "\n",
    "# Boxplot for Price\n",
    "plt.subplot(1, 2, 1)\n",
    "sns.boxplot(y=df['Price'])\n",
    "plt.title('Outliers in Price')\n",
    "\n",
    "# Boxplot for Quantity\n",
    "plt.subplot(1, 2, 2)\n",
    "sns.boxplot(y=df['Sales Volume'])\n",
    "plt.title('Outliers in Sales volume')\n",
    "\n",
    "plt.tight_layout()\n",
    "plt.show()\n",
    "\n"
   ]
  },
  {
   "cell_type": "markdown",
   "id": "329eb91a",
   "metadata": {},
   "source": [
    "Detect and remover the outliners"
   ]
  },
  {
   "cell_type": "code",
   "execution_count": 24,
   "id": "eb2d2ab2",
   "metadata": {},
   "outputs": [
    {
     "name": "stdout",
     "output_type": "stream",
     "text": [
      "Original Data Shape: (250, 16)\n",
      "After Removing Price Outliers: (247, 16)\n"
     ]
    }
   ],
   "source": [
    "# FIXING outliners in price \n",
    "\n",
    "original_shape = df.shape\n",
    "\n",
    "# Calculating IQR for price\n",
    "Q1 = df['Price'].quantile(0.25)\n",
    "Q3 = df['Price'].quantile(0.75)\n",
    "IQR = Q3 - Q1\n",
    "\n",
    "# Seting the bounds\n",
    "lower_bound = Q1 - 1.5 * IQR\n",
    "upper_bound = Q3 + 1.5 * IQR\n",
    "\n",
    "# Removing outliers\n",
    "df = df[(df['Price'] >= lower_bound) & (df['Price'] <= upper_bound)]\n",
    "\n",
    "# Printing shape comparison\n",
    "print(\"Original Data Shape:\", original_shape)\n",
    "print(\"After Removing Price Outliers:\", df.shape)\n",
    "\n",
    "\n"
   ]
  },
  {
   "cell_type": "code",
   "execution_count": 25,
   "id": "cd08b4ee",
   "metadata": {},
   "outputs": [],
   "source": [
    "# creating new column\n",
    "df = df.copy()\n",
    "df['Total_Revenue'] = df['Price'] * df['Sales Volume']\n"
   ]
  },
  {
   "cell_type": "markdown",
   "id": "1ea06ab6",
   "metadata": {},
   "source": [
    "Now saving the cleaned csv \n"
   ]
  },
  {
   "cell_type": "code",
   "execution_count": null,
   "id": "b572e1c6",
   "metadata": {},
   "outputs": [],
   "source": [
    "df.to_csv('zara_cleaned.csv', index=False)\n"
   ]
  },
  {
   "cell_type": "markdown",
   "id": "bb61d3db",
   "metadata": {},
   "source": [
    "Connecting To sql server for further analysis \n",
    "\n"
   ]
  },
  {
   "cell_type": "code",
   "execution_count": null,
   "id": "0745a9b7",
   "metadata": {},
   "outputs": [],
   "source": [
    "from sqlalchemy import create_engine\n",
    "server = 'DESKTOP-SNAA16T\\\\SQLEXPRESS'\n",
    "database = 'ZaraDB' \n",
    "\n",
    "connection_string = f\"mssql+pyodbc://@{server}/{database}?trusted_connection=yes&driver=ODBC+Driver+17+for+SQL+Server\"\n",
    "engine = create_engine(connection_string)\n",
    "\n"
   ]
  },
  {
   "cell_type": "code",
   "execution_count": null,
   "id": "c2710b1a",
   "metadata": {},
   "outputs": [
    {
     "data": {
      "text/plain": [
       "1"
      ]
     },
     "execution_count": 61,
     "metadata": {},
     "output_type": "execute_result"
    }
   ],
   "source": [
    "df.to_sql('zara_sales', con=engine, if_exists='replace', index=False)\n"
   ]
  }
 ],
 "metadata": {
  "kernelspec": {
   "display_name": "base",
   "language": "python",
   "name": "python3"
  },
  "language_info": {
   "codemirror_mode": {
    "name": "ipython",
    "version": 3
   },
   "file_extension": ".py",
   "mimetype": "text/x-python",
   "name": "python",
   "nbconvert_exporter": "python",
   "pygments_lexer": "ipython3",
   "version": "3.12.7"
  }
 },
 "nbformat": 4,
 "nbformat_minor": 5
}
